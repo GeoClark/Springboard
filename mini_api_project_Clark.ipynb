{
 "cells": [
  {
   "cell_type": "code",
   "execution_count": 118,
   "id": "a94ba8b8",
   "metadata": {},
   "outputs": [],
   "source": [
    "# API Key and data munging mini-project\n",
    "# install relevant packages\n",
    "\n",
    "# First, import the relevant modules\n",
    "import requests\n",
    "import json\n",
    "\n",
    "from statistics import mean\n",
    "from statistics import median\n",
    "\n",
    "#replace with your user API KEY to run\n",
    "user_api_key='enter key here'"
   ]
  },
  {
   "cell_type": "code",
   "execution_count": 122,
   "id": "6f15ac41",
   "metadata": {},
   "outputs": [],
   "source": [
    "# Now, call the Quandl API and pull out a small sample of the data (only one day) to get a glimpse\n",
    "# into the JSON structure that will be returned\n",
    "url= 'https://data.nasdaq.com/api/v3/datasets/FSE/AFX_X/data.json?start_date=2020-06-04&end_date=2020-06-04&api_key='+user_api_key\n",
    "afx_x_one_day = requests.get(url)"
   ]
  },
  {
   "cell_type": "markdown",
   "id": "045f5932",
   "metadata": {},
   "source": [
    "## Pull Data\n",
    "First pull data for one day to get familiar with the structure of the JSON "
   ]
  },
  {
   "cell_type": "code",
   "execution_count": 39,
   "id": "090d900f",
   "metadata": {
    "scrolled": true
   },
   "outputs": [
    {
     "name": "stdout",
     "output_type": "stream",
     "text": [
      "{'dataset_data': {'limit': None, 'transform': None, 'column_index': None, 'column_names': ['Date', 'Open', 'High', 'Low', 'Close', 'Change', 'Traded Volume', 'Turnover', 'Last Price of the Day', 'Daily Traded Units', 'Daily Turnover'], 'start_date': '2020-06-04', 'end_date': '2020-06-04', 'frequency': 'daily', 'data': [['2020-06-04', 92.3, 92.8, 89.65, 91.4, None, 238456.0, 21679333.75, None, None, None]], 'collapse': None, 'order': None}}\n",
      "<class 'dict'>\n"
     ]
    }
   ],
   "source": [
    "# Inspect the JSON structure of the object you created, and take note of how nested it is,\n",
    "# as well as the overall structure\n",
    "\n",
    "sample=json.loads(afx_x_one_day.text)\n",
    "\n",
    "\n",
    "print(sample)\n",
    "print(type(sample))\n",
    "\n"
   ]
  },
  {
   "cell_type": "markdown",
   "id": "0d98ed7e",
   "metadata": {},
   "source": [
    "Pull data for all of 2017."
   ]
  },
  {
   "cell_type": "code",
   "execution_count": 123,
   "id": "2eb86367",
   "metadata": {
    "scrolled": true
   },
   "outputs": [
    {
     "name": "stdout",
     "output_type": "stream",
     "text": [
      "<class 'dict'>\n"
     ]
    }
   ],
   "source": [
    "#Make API request\n",
    "url= 'https://data.nasdaq.com/api/v3/datasets/FSE/AFX_X/data.json?start_date=2017-01-01 & end_date=2017-12-31&api_key='+user_api_key\n",
    "afx_x_2017 = requests.get(url)\n",
    "\n",
    "#load JSON, convert to text\n",
    "afx_2017=json.loads(afx_x_2017.text)\n",
    "\n",
    "\n",
    "# get type\n",
    "print(type(afx_2017))\n",
    "\n",
    "#print(str(afx_2017))\n",
    "\n",
    "# dictionary is structured as:\n",
    "# afx_2017[dataset_data][data][i][i]\n"
   ]
  },
  {
   "cell_type": "markdown",
   "id": "70af24e0",
   "metadata": {},
   "source": [
    "## Unnest data into relevant lists"
   ]
  },
  {
   "cell_type": "code",
   "execution_count": 124,
   "id": "3f955a76",
   "metadata": {},
   "outputs": [
    {
     "name": "stdout",
     "output_type": "stream",
     "text": [
      "[112.2, 111.0, 111.0, 111.3, 111.4]\n",
      "[112.0, 112.1, 111.2, 111.6, 110.1]\n",
      "[112.2, 113.6, 111.5, 112.0, 111.4]\n",
      "[111.5, 111.0, 109.5, 110.5, 110.1]\n",
      "[0.7000000000000028, 2.5999999999999943, 2.0, 1.5, 1.3000000000000114]\n",
      "[0.09999999999999432, -0.8999999999999915, 0.3999999999999915, -1.5, 3.4000000000000057]\n",
      "[51.0, 315.0, 155.0, 254.0, 294.0]\n"
     ]
    }
   ],
   "source": [
    "#Extract Data\n",
    "#Create empty lists\n",
    "\n",
    "open_price   = []\n",
    "close_price  = []\n",
    "high_price   = []\n",
    "low_price    = []\n",
    "change       = []\n",
    "change_day   = []\n",
    "volume       = []\n",
    "\n",
    "# dictionary is structured as:\n",
    "\n",
    "# afx_2017[dataset_data][data][i][i]\n",
    "\n",
    "# Extract and store daily values through the yearly data\n",
    "\n",
    "for i in range(len(afx_2017['dataset_data']['data'])):\n",
    "    # Select data \n",
    "    opening = afx_2017['dataset_data']['data'][i][1] \n",
    "    close =afx_2017['dataset_data']['data'][i][4]\n",
    "    high = afx_2017['dataset_data']['data'][i][2] \n",
    "    low = afx_2017['dataset_data']['data'][i][3]    \n",
    "    trade_vol = afx_2017['dataset_data']['data'][i][6]\n",
    "    \n",
    "    # Check if data entries for that day exists for each relevant parameter\n",
    "   \n",
    "    if isinstance(opening, float):\n",
    "        open_price.append(opening)\n",
    "    \n",
    "    if isinstance(high, float):\n",
    "        high_price.append(high)\n",
    "    \n",
    "    if isinstance(low, float):\n",
    "        low_price.append(low)\n",
    "        \n",
    "    if isinstance(close, float):   \n",
    "        close_price.append(close)\n",
    "    \n",
    "    if isinstance(high, float) and isinstance(low,float):\n",
    "        change_day_ob=high-low\n",
    "        change.append(change_day_ob)\n",
    "        \n",
    "    # Closing price change is Zero on the first day\n",
    "    if i != 0 : \n",
    "        change_ob = close_price[i] - close_price[i-1]\n",
    "        change_day.append(change_ob)    \n",
    "        \n",
    "    # Store the traded volume for each day.    \n",
    "    if isinstance(trade_vol,float):\n",
    "        volume.append(trade_vol)\n",
    "        \n",
    "\n",
    "\n",
    "print(open_price[0:5] )\n",
    "print(close_price[0:5])\n",
    "print(high_price[0:5] )\n",
    "print(low_price[0:5]  )\n",
    "print(change[0:5]     )\n",
    "print(change_day[0:5] )\n",
    "print(volume[0:5]     )\n"
   ]
  },
  {
   "cell_type": "code",
   "execution_count": 125,
   "id": "0c61b28f",
   "metadata": {},
   "outputs": [
    {
     "name": "stdout",
     "output_type": "stream",
     "text": [
      "The first 3 opening prices are[112.2, 111.0, 111.0]\n",
      "The first 3 closing prices are[112.0, 112.1, 111.2]\n",
      "The first 3 values for high price are[112.2, 113.6, 111.5]\n",
      "The first 3 values for low price are[111.5, 111.0, 109.5]\n",
      "The first 3 values for change between two consecutive days are[0.7000000000000028, 2.5999999999999943, 2.0]\n",
      "The first 3 values for daily change[0.09999999999999432, -0.8999999999999915, 0.3999999999999915]\n",
      "The first 3 values for volume are[51.0, 315.0, 155.0]\n"
     ]
    }
   ],
   "source": [
    "#print first few values of key lists to make sure things are \"kosher\"\n",
    "\n",
    "#designate how many values you want to check\n",
    "index_oi=3\n",
    "\n",
    "print( \"The first \"+ str(index_oi) + \" opening prices are\"  + str(open_price[0:index_oi]))\n",
    "print( \"The first \"+ str(index_oi) + \" closing prices are\"  + str(close_price[0:index_oi]))\n",
    "print( \"The first \"+ str(index_oi) + \" values for high price are\"  + str(high_price[0:index_oi]))\n",
    "print( \"The first \"+ str(index_oi) + \" values for low price are\"  + str(low_price[0:index_oi]))\n",
    "print( \"The first \"+ str(index_oi) + \" values for change between two consecutive days are\"  + str(change[0:index_oi]))\n",
    "print( \"The first \"+ str(index_oi) + \" values for daily change\"  + str(change_day[0:index_oi]))\n",
    "print( \"The first \"+ str(index_oi) + \" values for volume are\"  + str(volume[0:index_oi]))\n",
    "\n",
    "\n",
    "#open_price   = []\n",
    "#high_price   = []\n",
    "#low_price    = []\n",
    "#close_price  = []\n",
    "#change       = []\n",
    "#change_day   = []\n",
    "#volume       = []"
   ]
  },
  {
   "cell_type": "markdown",
   "id": "8269f226",
   "metadata": {},
   "source": [
    "# Questions\n",
    "\n",
    "### Calculate the highest and lowest opening prices were for the stock in this period."
   ]
  },
  {
   "cell_type": "code",
   "execution_count": 126,
   "id": "86224ce5",
   "metadata": {},
   "outputs": [
    {
     "name": "stdout",
     "output_type": "stream",
     "text": [
      "The highest opening price was $122.1 during the period of interest\n",
      "The lowest opening price was $34.0 during the period of interest\n"
     ]
    }
   ],
   "source": [
    "\n",
    "# max and min opening price\n",
    "max_open=max(open_price)\n",
    "min_open=min(open_price)\n",
    "\n",
    "\n",
    "print(\"The highest opening price was $\" + str(max_open)+\" during the period of interest\")\n",
    "print(\"The lowest opening price was $\" + str(min_open)+\" during the period of interest\")"
   ]
  },
  {
   "cell_type": "markdown",
   "id": "753d9de3",
   "metadata": {},
   "source": [
    "### What was the largest change in any one day based on the intraday high and low?"
   ]
  },
  {
   "cell_type": "code",
   "execution_count": 127,
   "id": "67b2e0ec",
   "metadata": {},
   "outputs": [
    {
     "name": "stdout",
     "output_type": "stream",
     "text": [
      "The largest intraday change in this period was $14.1\n"
     ]
    }
   ],
   "source": [
    "#What was the largest change in any one day based on the intraday high and low?\n",
    "max_change=round(max(change),2)\n",
    "\n",
    "print(\"The largest intraday change in this period was $\" + str(max_change))"
   ]
  },
  {
   "cell_type": "markdown",
   "id": "8c6f82d3",
   "metadata": {},
   "source": [
    "### What was the largest change between any two days based on closing price?"
   ]
  },
  {
   "cell_type": "code",
   "execution_count": 128,
   "id": "61631f66",
   "metadata": {},
   "outputs": [
    {
     "name": "stdout",
     "output_type": "stream",
     "text": [
      "The largest change between two days in this period was $8.95\n"
     ]
    }
   ],
   "source": [
    "#What was the largest change between any two days (based on Closing Price)?\n",
    "max_change_day=round(max(change_day),2)\n",
    "\n",
    "print(\"The largest change between two days in this period was $\" + str(max_change_day))"
   ]
  },
  {
   "cell_type": "markdown",
   "id": "8f5a3b63",
   "metadata": {},
   "source": [
    "### What was the average daily trading volume during this year?\n"
   ]
  },
  {
   "cell_type": "code",
   "execution_count": 116,
   "id": "31e2e24b",
   "metadata": {},
   "outputs": [
    {
     "name": "stdout",
     "output_type": "stream",
     "text": [
      "The mean daily trading volume in this trading period was 117933.0 shares\n"
     ]
    }
   ],
   "source": [
    "#What was the average daily trading volume during this year?\n",
    "mean_volume=round(mean(volume),0)\n",
    "\n",
    "print(\"The mean daily trading volume in this trading period was \" + str(mean_volume)+ \" shares\")"
   ]
  },
  {
   "cell_type": "markdown",
   "id": "a008dc0c",
   "metadata": {},
   "source": [
    "### What was the MEDIAN daily trading volume during this year?\n"
   ]
  },
  {
   "cell_type": "code",
   "execution_count": 129,
   "id": "53854e62",
   "metadata": {},
   "outputs": [
    {
     "name": "stdout",
     "output_type": "stream",
     "text": [
      "The median daily trading volume in this trading period was 98767.0 shares\n"
     ]
    }
   ],
   "source": [
    "#What was the median daily trading volume during this year?\n",
    "median_trade_vol=round(median(volume),0)\n",
    "\n",
    "print(\"The median daily trading volume in this trading period was \" + str(median_trade_vol)+ \" shares\")"
   ]
  },
  {
   "cell_type": "markdown",
   "id": "93de7db3",
   "metadata": {},
   "source": [
    "#### This marks the end of the mini API project"
   ]
  }
 ],
 "metadata": {
  "kernelspec": {
   "display_name": "Python 3 (ipykernel)",
   "language": "python",
   "name": "python3"
  },
  "language_info": {
   "codemirror_mode": {
    "name": "ipython",
    "version": 3
   },
   "file_extension": ".py",
   "mimetype": "text/x-python",
   "name": "python",
   "nbconvert_exporter": "python",
   "pygments_lexer": "ipython3",
   "version": "3.9.7"
  }
 },
 "nbformat": 4,
 "nbformat_minor": 5
}
