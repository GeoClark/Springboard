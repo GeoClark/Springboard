{
 "cells": [
  {
   "cell_type": "markdown",
   "id": "607fc987",
   "metadata": {},
   "source": [
    "Data scientists and Research Scientist.\n",
    "I don't come from conventional Computer Science or Data Science Background.  My strength are in my experience with solving complex problem. These titles cover a diverse range of responsibilities.  I believe I'm competietive for those that require R/Python/SQL and not older languages (Pearl/C++).  I'm attracted to roles with a comonent of structured testing or experimentation.  "
   ]
  },
  {
   "cell_type": "code",
   "execution_count": null,
   "id": "d73cf4a6",
   "metadata": {},
   "outputs": [],
   "source": []
  },
  {
   "cell_type": "markdown",
   "id": "0344b750",
   "metadata": {},
   "source": [
    "### Data Scientist \n",
    "\n",
    "https://www.google.com/search?q=lockeed+data+scientist&rlz=1C1ONGR_enUS938US942&oq=lockeed+data+scientist&aqs=chrome..69i57j0i13j0i22i30j0i22i30i457j0i22i30j0i390l4.7326j0j4&sourceid=chrome&ie=UTF-8&ibp=htl;jobs&sa=X&ved=2ahUKEwjeu_iCurn4AhVYK0QIHVKuAz8Qkd0GegQICBAB#fpstate=tldetail&htivrt=jobs&htiq=lockeed+data+scientist&htidocid=MmvL_zYYbL8AAAAAAAAAAA%3D%3D"
   ]
  },
  {
   "cell_type": "markdown",
   "id": "e6b63352",
   "metadata": {},
   "source": [
    "### Senior Data Scientist\n",
    "https://jobs.cvshealth.com/job/16068728/senior-data-scientist-woonsocket-ri/?rx_c=alljobs&rx_campaign=Interviewquery0&rx_group=107172&rx_job=2123633BR_79182845&rx_source=Interviewquery&rx_ts=20220618T180001Z&utm_campaign=alljobs&utm_source=Interviewquery&utm_medium=recruitics_or"
   ]
  },
  {
   "cell_type": "markdown",
   "id": "8cc5e039",
   "metadata": {},
   "source": [
    "### Geothermal Scientist/Analyst\n",
    "\n",
    "https://nrel.wd5.myworkdayjobs.com/en-US/NREL/job/Golden-CO/Geothermal-Scientist-Analyst_R8816?source=indeed\n",
    "\n"
   ]
  },
  {
   "cell_type": "markdown",
   "id": "a31bcf25",
   "metadata": {},
   "source": [
    "### Research Scientist \n",
    "#amazon\n",
    "https://www.indeed.com/q-Energy-Data-Scientist-jobs.html?vjk=d2ade6a37fc8f3ec"
   ]
  },
  {
   "cell_type": "markdown",
   "id": "751130e6",
   "metadata": {},
   "source": [
    "### Data Scientist\n",
    "Bayer\n",
    "https://www.indeed.com/q-Energy-Data-Scientist-jobs.html?vjk=4a44fed718a11a64\n"
   ]
  },
  {
   "cell_type": "markdown",
   "id": "c884f871",
   "metadata": {},
   "source": [
    "### Data Scientist Analytics\n",
    "Meta\n",
    "https://www.metacareers.com/v2/jobs/607119483731317/"
   ]
  },
  {
   "cell_type": "code",
   "execution_count": null,
   "id": "2cfed408",
   "metadata": {},
   "outputs": [],
   "source": [
    "#Words for word cloud\n",
    "Data Sicentist Analytics\n"
   ]
  },
  {
   "cell_type": "code",
   "execution_count": null,
   "id": "dae003fe",
   "metadata": {},
   "outputs": [],
   "source": [
    "\n",
    "• Active TS / SCI w / CI Poly\n",
    "• Signals analysis background and skills\n",
    "• One or more of the following software skills : PERL, JAVA, HTML / XML, C++, SQL, Wiki, JavaScript, MySQL, Linux, Matlab.\n",
    "• Communication / Presentation skills\n",
    "• Problem solving skills\n",
    "• Teaming experience\n",
    "• Basic understanding of orbits and space systems\n",
    "\n",
    "Desired Skills :\n",
    "• At least 5 years signals analyst experience\n",
    "• Electrical or Mechanical Engineering, Software Engineering or similar technical degree\n",
    "• Advanced programing skills\n",
    "• Understanding of baseline development and delivery process\n",
    "• Domain Experience\n",
    "• System Engineering Skills\n",
    "\n",
    "Develops and/or uses algorithms and statistical predictive models and determines analytical\n",
    "approaches and modeling techniques to evaluate scenarios and potential future outcomes\n",
    "• Performs analyses of structured and unstructured data to solve multiple and/or complex business\n",
    "problems utilizing advanced statistical techniques and mathematical analyses and broad knowledge\n",
    "of the organization and/or industry\n",
    "• Collaborates with business partners to understand their problems and goals, develop predictive\n",
    "modeling, statistical analysis, data reports and performance metrics\n",
    "• Develops and participates in presentations and consultations to existing and prospective\n",
    "constituents on analytics results and solutions\n",
    "• Interacts with internal and external peers and managers to exchange complex information related to\n",
    "areas of specialization\n",
    "• Use strong knowledge in algorithms and predictive models to investigate problems, detect patterns\n",
    "and recommend solutions\n",
    "• Use strong programming skills to explore, examine and interpret large volumes of data in various\n",
    "forms\n",
    "\n",
    "Required Qualifications\n",
    "• 3+ years of relevant analytic experience\n",
    "• Experience programming using Python/Pyspark\n",
    "• Experience in SAS or SQL\n",
    "\n",
    "Preferred Qualifications\n",
    "• Demonstrates strong ability to communicate technical concepts and implications to business\n",
    "partners\n",
    "• Anticipates and prevents problems and roadblocks before they occur\n",
    "• Strong knowledge of advanced analytics tools and languages to analyze large data sets from multiple data sources\n",
    "• Demonstrates proficiency in most areas of mathematical analysis methods, machine learning, statistical analyses, and predictive modeling and in-depth specialization in some areas\n",
    "• Experience with Databricks AutoML and/or MLFlow\n",
    "• Experience with Palantir Foundry pipeline and application development.\n",
    "• Tableau development experience\n",
    "• Experience with retail, payer / third party, and/or health insurance financial analytics concepts.\n",
    "\n",
    "Education\n",
    "Bachelor’s degree or equivalent work experience in Mathematics, Statistics, Computer Science,\n",
    "Business Analytics, Economics, Physics, Engineering, or related discipline.\n",
    "Master’s degree or PhD preferred\n",
    "\n",
    "\n",
    "\n",
    "Basic Qualifications\n",
    "For Level V -\n",
    "Relevant PhD and 9 or more years of experience . Or, relevant Master's Degree and 12 or more years of experience . Or, relevant Bachelor's Degree and 14 or more years of experience .\n",
    "\n",
    "For Level IV\n",
    "Relevant PhD and 4 or more years of experience . Or, relevant Master's Degree and 7 or more years of experience . Or, relevant Bachelor's Degree and 9 or more years of experience\n",
    ".\n",
    "\n",
    "Additional Required Qualifications\n",
    "Conduct complex quantitative, un-biased analyses meticulously, thoroughly, and efficiently.\n",
    "Communicate effectively and succinctly in both writing and speaking to diverse stakeholder audiences. \n",
    "Write instructionally, so that technical and complicated concepts are clearly communicated to audience.\n",
    "Model and embed NREL values; exhibit a strong work ethic.\n",
    "Preferred Qualifications\n",
    "\n",
    "Techno-economic assessment of energy technologies. \n",
    "Keep abreast of key issues affecting geothermal power and distributed geothermal applications.\n",
    "Lead, and participate in, cross-disciplinary research teams.\n",
    "\n",
    "achelor’s degree with at least 5 years of experience, or Master’s degree with at least 2 years experience, or Ph.D..\n",
    "Educational preparation or applied experience in at least one of the following areas, Machine/Deep Learning, Bayesian Statistics, Uncertainty Quantification, Computational Biology, Computer Science, Probability, Probabilistic modeling, Nonlinear Dynamics, Hierarchical models, Applied Mathematics, or other related quantitative discipline;\n",
    "Demonstrate intermediate proficiency in computational skills and level of experience building data models using R, Python or other statistical and/or mathematical programming packages;\n",
    "Strong proficiency in predictive modeling to include comprehension of theory, modeling/identification strategies and limitations and pitfalls;\n",
    "Proficiency in machine learning algorithms and concepts, may include digital twin/surrogate model techniques such as Gaussian processes or neural network architectures and active learning approaches such as Bayesian optimization, Bayesian experimental design, or reinforcement learning;\n",
    "Experience in successful delivery of valuable analysis through application of domain knowledge;\n",
    "Demonstrated creativity in solving challenging and complex problems using large data sets;\n",
    "Evidence of ability to demonstrate strong business acumen;\n",
    "Strong communication competencies to include presentations and delivery of complex quantitative analyses in a clear, concise, and actionable manner to extended team and small groups of key stakeholders.\n",
    "\n",
    "Leverage data and business principles to drive large scale Meta’s Data Center programs.\n",
    "Define and develop the program for metrics creation, data collection, modeling, and reporting the operational performance of Meta’s data centers.\n",
    "Collaborate with cross-functional data and business teams to define problem statements, access and manipulate data, build analytical models, explain data-gathering requirements, deliver analytics insights, and make recommendations.\n",
    "Define, compute, track, and continuously validate business metrics with descriptive and predictive analytics. Leverage tools like Python, SQL, R, and Tableau for analytics.\n",
    "Design & Implement statistical models such as Hypothesis testing, Forecasting, statistical process control and simulation to evaluate critical business decisions and influence our Data Center planning & Operations.\n",
    "Identify gaps in the operational processes, build analytical models for finding insights and helping in driving decisions across different org leadership.\n",
    "Provide mentorship to other members of the team on development of best practices for design and implementation of cutting-edge analytics insights.\n",
    "Lead and support various ad hoc projects, as needed, in support of Data Center strategy.\n",
    "Minimum Qualifications\n",
    "Bachelor's degree in Computer Science, Computer Engineering, relevant technical field, or equivalent practical experience.\n",
    "Degree in an analytical field (e.g. Engineering, Mathematics, Statistics, Operations Research, Management Science, or related field)\n",
    "6+ years of hands-on experience analyzing and interpreting data, developing metrics, drawing conclusions, recommending actions, and reporting results across stakeholders\n",
    "6+ years of experience in advanced SQL queries development\n",
    "6+ years of experience with scripting in Python, R or similar languages\n",
    "6+ years of experience of working with visualization tools such as Tableau, Power BI, or similar\n",
    "6+ years of experience of end-to-end managing and leading many cross-functional projects and cross-functional teams (both internal and external)\n",
    "Proven thought leader in data analytics who can independently solve ambiguous problems\n",
    "Advanced communication and storytelling experience to influence all organizational levels (engineers, executives and cross functional teams) to drive business decisions\n",
    "Experience in developing data driven analytical models to solve complex business problems\n",
    "Knowledge of statistics (e.g. modeling, experimental design, Hypothesis etc.)\n",
    "Be a self-starter, motivated by an interest for developing the best possible solutions"
   ]
  }
 ],
 "metadata": {
  "kernelspec": {
   "display_name": "Python 3 (ipykernel)",
   "language": "python",
   "name": "python3"
  },
  "language_info": {
   "codemirror_mode": {
    "name": "ipython",
    "version": 3
   },
   "file_extension": ".py",
   "mimetype": "text/x-python",
   "name": "python",
   "nbconvert_exporter": "python",
   "pygments_lexer": "ipython3",
   "version": "3.9.7"
  }
 },
 "nbformat": 4,
 "nbformat_minor": 5
}
